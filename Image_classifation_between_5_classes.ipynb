{
  "nbformat": 4,
  "nbformat_minor": 0,
  "metadata": {
    "colab": {
      "name": "Image classifation between 5 classes.ipynb",
      "provenance": [],
      "authorship_tag": "ABX9TyOSGgKYXySk9AsbXaaoPz+3",
      "include_colab_link": true
    },
    "kernelspec": {
      "name": "python3",
      "display_name": "Python 3"
    },
    "accelerator": "GPU"
  },
  "cells": [
    {
      "cell_type": "markdown",
      "metadata": {
        "id": "view-in-github",
        "colab_type": "text"
      },
      "source": [
        "<a href=\"https://colab.research.google.com/github/BhawnaKochhar/image-classification/blob/master/Image_classifation_between_5_classes.ipynb\" target=\"_parent\"><img src=\"https://colab.research.google.com/assets/colab-badge.svg\" alt=\"Open In Colab\"/></a>"
      ]
    },
    {
      "cell_type": "markdown",
      "metadata": {
        "id": "kXHRIGXNQRij",
        "colab_type": "text"
      },
      "source": [
        "# loading the data from the drive using **googledrive downloader**"
      ]
    },
    {
      "cell_type": "code",
      "metadata": {
        "id": "YFHJyAH8sbwg",
        "colab_type": "code",
        "colab": {
          "base_uri": "https://localhost:8080/",
          "height": 68
        },
        "outputId": "8cad2a16-9df1-473c-8fd0-0175f5be47b8"
      },
      "source": [
        "from google_drive_downloader import GoogleDriveDownloader as gdd\n",
        "\n",
        "gdd.download_file_from_google_drive(file_id='176E-pLhoxTgWsJ3MeoJQV_GXczIA6g8D',\n",
        "                                    dest_path = '/content/animal_dataset_intermediate.zip',\n",
        "                                    unzip=True, showsize=True)"
      ],
      "execution_count": null,
      "outputs": [
        {
          "output_type": "stream",
          "text": [
            "Downloading 176E-pLhoxTgWsJ3MeoJQV_GXczIA6g8D into /content/animal_dataset_intermediate.zip... \n",
            "224.5 MiB Done.\n",
            "Unzipping...Done.\n"
          ],
          "name": "stdout"
        }
      ]
    },
    {
      "cell_type": "markdown",
      "metadata": {
        "id": "y9TAeo4wQwcm",
        "colab_type": "text"
      },
      "source": [
        "# Changing the name of the columns to the name of the class types "
      ]
    },
    {
      "cell_type": "code",
      "metadata": {
        "id": "PdDaNkMWswwd",
        "colab_type": "code",
        "colab": {
          "base_uri": "https://localhost:8080/",
          "height": 34
        },
        "outputId": "86b28336-14f6-4306-e3e7-8b1bd920d5de"
      },
      "source": [
        "import os\n",
        "data_path = '/content/animal_dataset_intermediate/train/'\n",
        "print('cleaning folder names')\n",
        "for i in os.listdir(data_path):\n",
        "  os.renames(data_path + i, data_path+i.split('_')[0])\n"
      ],
      "execution_count": null,
      "outputs": [
        {
          "output_type": "stream",
          "text": [
            "cleaning folder names\n"
          ],
          "name": "stdout"
        }
      ]
    },
    {
      "cell_type": "markdown",
      "metadata": {
        "id": "Z9kLz4uuQ8eD",
        "colab_type": "text"
      },
      "source": [
        "# Loading the necessary libraries and modules"
      ]
    },
    {
      "cell_type": "code",
      "metadata": {
        "id": "caRzDmlkswus",
        "colab_type": "code",
        "colab": {}
      },
      "source": [
        "import glob\n",
        "import numpy as np\n",
        "import cv2\n",
        "import matplotlib.pyplot as plt\n",
        "import tensorflow as tf\n",
        "import pandas as pd\n",
        "from tensorflow.keras.preprocessing import image_dataset_from_directory\n",
        "from tensorflow import keras\n",
        "from tensorflow.keras import layers\n",
        "from tensorflow.keras.models import Sequential\n",
        "\n",
        "img_size = 224\n",
        "class_names = ['elefante', 'farfalla', 'mucca', 'pecora', 'scoiattolo']"
      ],
      "execution_count": null,
      "outputs": []
    },
    {
      "cell_type": "markdown",
      "metadata": {
        "id": "9syeYXhtREIY",
        "colab_type": "text"
      },
      "source": [
        "# Loading the data for training and validation using **image_dataset_from_directory**"
      ]
    },
    {
      "cell_type": "code",
      "metadata": {
        "id": "K5wJb0Uw0JeA",
        "colab_type": "code",
        "colab": {
          "base_uri": "https://localhost:8080/",
          "height": 102
        },
        "outputId": "2e1e76db-3062-406d-ddf4-8901d5c9a2b2"
      },
      "source": [
        "\n",
        "\n",
        "image_size = (224, 224)\n",
        "batch_size = 32\n",
        "\n",
        "train_ds = image_dataset_from_directory(\n",
        "    \"animal_dataset_intermediate/train\",\n",
        "    labels = \"inferred\",\n",
        "    label_mode = 'int',\n",
        "    validation_split=0.2,\n",
        "    subset=\"training\",\n",
        "    seed=1337,\n",
        "    image_size=image_size,\n",
        "    batch_size=batch_size,\n",
        ")\n",
        "val_ds =image_dataset_from_directory(\n",
        "    \"animal_dataset_intermediate/train\",\n",
        "    labels = \"inferred\",\n",
        "    label_mode = 'int',\n",
        "    validation_split=0.2,\n",
        "    subset=\"validation\",\n",
        "    seed=1337,\n",
        "    image_size=image_size,\n",
        "    batch_size=batch_size,\n",
        ")"
      ],
      "execution_count": null,
      "outputs": [
        {
          "output_type": "stream",
          "text": [
            "Found 8196 files belonging to 5 classes.\n",
            "Using 6557 files for training.\n",
            "Found 8196 files belonging to 5 classes.\n",
            "Using 1639 files for validation.\n",
            "Found 910 files belonging to 1 classes.\n"
          ],
          "name": "stdout"
        }
      ]
    },
    {
      "cell_type": "markdown",
      "metadata": {
        "id": "sZrO7hb4R6jy",
        "colab_type": "text"
      },
      "source": [
        "# Model training"
      ]
    },
    {
      "cell_type": "code",
      "metadata": {
        "id": "ckKVJjfWNEbU",
        "colab_type": "code",
        "colab": {}
      },
      "source": [
        "#Augmenting the images\n",
        "data_augmentation = keras.Sequential(\n",
        "  [\n",
        "    layers.experimental.preprocessing.RandomFlip(\"horizontal\", \n",
        "                                                 input_shape=(img_size, \n",
        "                                                              img_size,\n",
        "                                                              3)),\n",
        "    layers.experimental.preprocessing.RandomRotation(0.1),\n",
        "    layers.experimental.preprocessing.RandomZoom(0.1),\n",
        "  ]\n",
        ")"
      ],
      "execution_count": null,
      "outputs": []
    },
    {
      "cell_type": "code",
      "metadata": {
        "id": "wS0PmKHH4ptC",
        "colab_type": "code",
        "colab": {}
      },
      "source": [
        "num_classes = 5\n",
        "\n",
        "model = Sequential([\n",
        "  data_augmentation,\n",
        "  # layers.experimental.preprocessing.Rescaling(1./255, input_shape=(224, 224, 3)),\n",
        "  layers.experimental.preprocessing.Rescaling(1./255),\n",
        "  layers.Conv2D(16, 3, padding='same', activation='relu'),\n",
        "  layers.MaxPooling2D(),\n",
        "  layers.Conv2D(32, 3, padding='same', activation='relu'),\n",
        "  layers.MaxPooling2D(),\n",
        "  layers.Dropout(0.2),\n",
        "  layers.Conv2D(64, 3, padding='same', activation='relu'),\n",
        "  layers.MaxPooling2D(),\n",
        "  layers.Dropout(0.2),\n",
        "  layers.Conv2D(128, 3, padding='same', activation='relu'),\n",
        "  layers.MaxPooling2D(),\n",
        "  layers.Conv2D(256, 3, padding='same', activation='relu'),\n",
        "  layers.MaxPooling2D(),\n",
        "  layers.Dropout(0.2),\n",
        "  layers.Flatten(),\n",
        "  layers.Dense(128, activation='relu'),\n",
        "  layers.Dense(64, activation='relu'),\n",
        "  layers.Dense(32, activation='relu'),\n",
        "  layers.Dense(16, activation='relu'),\n",
        "  layers.Dense(num_classes)\n",
        "])"
      ],
      "execution_count": null,
      "outputs": []
    },
    {
      "cell_type": "code",
      "metadata": {
        "id": "j1zWHera5KKw",
        "colab_type": "code",
        "colab": {}
      },
      "source": [
        "model.compile(optimizer='adam',\n",
        "              loss=tf.keras.losses.SparseCategoricalCrossentropy(from_logits=True),\n",
        "              metrics=['accuracy'])"
      ],
      "execution_count": null,
      "outputs": []
    },
    {
      "cell_type": "code",
      "metadata": {
        "id": "vhlpu1246odr",
        "colab_type": "code",
        "colab": {
          "base_uri": "https://localhost:8080/",
          "height": 867
        },
        "outputId": "22331a20-eaf6-49ec-dc25-b23ad5db403f"
      },
      "source": [
        "model.summary()"
      ],
      "execution_count": null,
      "outputs": [
        {
          "output_type": "stream",
          "text": [
            "Model: \"sequential_7\"\n",
            "_________________________________________________________________\n",
            "Layer (type)                 Output Shape              Param #   \n",
            "=================================================================\n",
            "sequential_5 (Sequential)    (None, 224, 224, 3)       0         \n",
            "_________________________________________________________________\n",
            "rescaling_6 (Rescaling)      (None, 224, 224, 3)       0         \n",
            "_________________________________________________________________\n",
            "conv2d_19 (Conv2D)           (None, 224, 224, 16)      448       \n",
            "_________________________________________________________________\n",
            "max_pooling2d_19 (MaxPooling (None, 112, 112, 16)      0         \n",
            "_________________________________________________________________\n",
            "conv2d_20 (Conv2D)           (None, 112, 112, 32)      4640      \n",
            "_________________________________________________________________\n",
            "max_pooling2d_20 (MaxPooling (None, 56, 56, 32)        0         \n",
            "_________________________________________________________________\n",
            "dropout_1 (Dropout)          (None, 56, 56, 32)        0         \n",
            "_________________________________________________________________\n",
            "conv2d_21 (Conv2D)           (None, 56, 56, 64)        18496     \n",
            "_________________________________________________________________\n",
            "max_pooling2d_21 (MaxPooling (None, 28, 28, 64)        0         \n",
            "_________________________________________________________________\n",
            "dropout_2 (Dropout)          (None, 28, 28, 64)        0         \n",
            "_________________________________________________________________\n",
            "conv2d_22 (Conv2D)           (None, 28, 28, 128)       73856     \n",
            "_________________________________________________________________\n",
            "max_pooling2d_22 (MaxPooling (None, 14, 14, 128)       0         \n",
            "_________________________________________________________________\n",
            "conv2d_23 (Conv2D)           (None, 14, 14, 256)       295168    \n",
            "_________________________________________________________________\n",
            "max_pooling2d_23 (MaxPooling (None, 7, 7, 256)         0         \n",
            "_________________________________________________________________\n",
            "dropout_3 (Dropout)          (None, 7, 7, 256)         0         \n",
            "_________________________________________________________________\n",
            "flatten_4 (Flatten)          (None, 12544)             0         \n",
            "_________________________________________________________________\n",
            "dense_17 (Dense)             (None, 128)               1605760   \n",
            "_________________________________________________________________\n",
            "dense_18 (Dense)             (None, 64)                8256      \n",
            "_________________________________________________________________\n",
            "dense_19 (Dense)             (None, 32)                2080      \n",
            "_________________________________________________________________\n",
            "dense_20 (Dense)             (None, 16)                528       \n",
            "_________________________________________________________________\n",
            "dense_21 (Dense)             (None, 5)                 85        \n",
            "=================================================================\n",
            "Total params: 2,009,317\n",
            "Trainable params: 2,009,317\n",
            "Non-trainable params: 0\n",
            "_________________________________________________________________\n"
          ],
          "name": "stdout"
        }
      ]
    },
    {
      "cell_type": "code",
      "metadata": {
        "id": "xLHEaIYvEgbK",
        "colab_type": "code",
        "colab": {
          "base_uri": "https://localhost:8080/",
          "height": 547
        },
        "outputId": "50668142-31f6-4b2f-c61b-fb3ceadc0242"
      },
      "source": [
        "callback = tf.keras.callbacks.EarlyStopping(monitor='val_accuracy', patience=2)\n",
        "set_epochs = 15\n",
        "\n",
        "history = model.fit(\n",
        "            train_ds,\n",
        "            validation_data=val_ds,\n",
        "            epochs = set_epochs,\n",
        "            callbacks=[callback],\n",
        "            )"
      ],
      "execution_count": null,
      "outputs": [
        {
          "output_type": "stream",
          "text": [
            "Epoch 1/15\n",
            "205/205 [==============================] - 20s 99ms/step - loss: 1.3816 - accuracy: 0.4000 - val_loss: 1.4134 - val_accuracy: 0.4094\n",
            "Epoch 2/15\n",
            "205/205 [==============================] - 20s 99ms/step - loss: 1.2039 - accuracy: 0.4972 - val_loss: 1.1241 - val_accuracy: 0.5638\n",
            "Epoch 3/15\n",
            "205/205 [==============================] - 20s 99ms/step - loss: 1.1023 - accuracy: 0.5440 - val_loss: 1.1007 - val_accuracy: 0.5497\n",
            "Epoch 4/15\n",
            "205/205 [==============================] - 20s 99ms/step - loss: 1.0221 - accuracy: 0.5804 - val_loss: 1.0396 - val_accuracy: 0.5741\n",
            "Epoch 5/15\n",
            "205/205 [==============================] - 20s 99ms/step - loss: 0.9435 - accuracy: 0.6250 - val_loss: 0.8624 - val_accuracy: 0.6687\n",
            "Epoch 6/15\n",
            "205/205 [==============================] - 20s 99ms/step - loss: 0.8812 - accuracy: 0.6523 - val_loss: 0.8983 - val_accuracy: 0.6504\n",
            "Epoch 7/15\n",
            "205/205 [==============================] - 20s 99ms/step - loss: 0.8473 - accuracy: 0.6611 - val_loss: 0.8260 - val_accuracy: 0.6785\n",
            "Epoch 8/15\n",
            "205/205 [==============================] - 20s 100ms/step - loss: 0.8222 - accuracy: 0.6877 - val_loss: 0.7531 - val_accuracy: 0.7065\n",
            "Epoch 9/15\n",
            "205/205 [==============================] - 20s 98ms/step - loss: 0.7856 - accuracy: 0.6938 - val_loss: 0.8138 - val_accuracy: 0.6791\n",
            "Epoch 10/15\n",
            "205/205 [==============================] - 20s 98ms/step - loss: 0.7551 - accuracy: 0.7102 - val_loss: 0.7511 - val_accuracy: 0.7090\n",
            "Epoch 11/15\n",
            "205/205 [==============================] - 20s 99ms/step - loss: 0.7154 - accuracy: 0.7237 - val_loss: 0.6957 - val_accuracy: 0.7322\n",
            "Epoch 12/15\n",
            "205/205 [==============================] - 20s 99ms/step - loss: 0.6908 - accuracy: 0.7351 - val_loss: 0.7074 - val_accuracy: 0.7328\n",
            "Epoch 13/15\n",
            "205/205 [==============================] - 20s 99ms/step - loss: 0.6682 - accuracy: 0.7476 - val_loss: 0.7138 - val_accuracy: 0.7383\n",
            "Epoch 14/15\n",
            "205/205 [==============================] - 20s 99ms/step - loss: 0.6547 - accuracy: 0.7510 - val_loss: 0.7061 - val_accuracy: 0.7315\n",
            "Epoch 15/15\n",
            "205/205 [==============================] - 20s 99ms/step - loss: 0.6215 - accuracy: 0.7645 - val_loss: 0.6284 - val_accuracy: 0.7651\n"
          ],
          "name": "stdout"
        }
      ]
    },
    {
      "cell_type": "code",
      "metadata": {
        "id": "tFFH3Ffq0Jhu",
        "colab_type": "code",
        "colab": {
          "base_uri": "https://localhost:8080/",
          "height": 499
        },
        "outputId": "fa25b393-c502-4d0b-d67b-2eb2cb6fd458"
      },
      "source": [
        "epochs = set_epochs\n",
        "\n",
        "acc = history.history['accuracy']\n",
        "val_acc = history.history['val_accuracy']\n",
        "\n",
        "loss=history.history['loss']\n",
        "val_loss=history.history['val_loss']\n",
        "\n",
        "epochs_range = range(epochs)\n",
        "\n",
        "plt.figure(figsize=(8, 8))\n",
        "plt.subplot(1, 2, 1)\n",
        "plt.plot(epochs_range, acc, label='Training Accuracy')\n",
        "plt.plot(epochs_range, val_acc, label='Validation Accuracy')\n",
        "plt.legend(loc='lower right')\n",
        "plt.title('Training and Validation Accuracy')\n",
        "\n",
        "plt.subplot(1, 2, 2)\n",
        "plt.plot(epochs_range, loss, label='Training Loss')\n",
        "plt.plot(epochs_range, val_loss, label='Validation Loss')\n",
        "plt.legend(loc='upper right')\n",
        "plt.title('Training and Validation Loss')\n",
        "plt.show()"
      ],
      "execution_count": null,
      "outputs": [
        {
          "output_type": "display_data",
          "data": {
            "image/png": "[encoded data removed]",
            "text/plain": [
              "<Figure size 576x576 with 2 Axes>"
            ]
          },
          "metadata": {
            "tags": [],
            "needs_background": "light"
          }
        }
      ]
    },
    {
      "cell_type": "markdown",
      "metadata": {
        "id": "LrbEUpUYSPFH",
        "colab_type": "text"
      },
      "source": [
        "# Loading testing data to make predictions"
      ]
    },
    {
      "cell_type": "code",
      "metadata": {
        "id": "jusw-6qX67p7",
        "colab_type": "code",
        "colab": {
          "base_uri": "https://localhost:8080/",
          "height": 34
        },
        "outputId": "6af588e0-382e-42f2-c9de-0483dfb6f94d"
      },
      "source": [
        "test_generator = image_dataset_from_directory(\n",
        "    \"animal_dataset_intermediate/test_\",\n",
        "    label_mode=None,\n",
        "    image_size=image_size,\n",
        "    shuffle=False,\n",
        "    batch_size = 1,\n",
        ")"
      ],
      "execution_count": null,
      "outputs": [
        {
          "output_type": "stream",
          "text": [
            "Found 910 files belonging to 1 classes.\n"
          ],
          "name": "stdout"
        }
      ]
    },
    {
      "cell_type": "code",
      "metadata": {
        "id": "ajafzUX7CAbY",
        "colab_type": "code",
        "colab": {}
      },
      "source": [
        "# getting the names of the files in the alphanumeric order\n",
        "# as \"image_dataset_from_directory\" load the testing data into alphanumeric order\n",
        "\n",
        "path = \"animal_dataset_intermediate/test_/test\"\n",
        "file_names = []\n",
        "files = glob.glob(path+\"/*\")\n",
        "for f in files:\n",
        "  file_name = f.split(\"/\")[-1]\n",
        "  file_names.append(file_name)\n",
        "\n",
        "file_names = sorted(file_names, key = str)\n"
      ],
      "execution_count": null,
      "outputs": []
    },
    {
      "cell_type": "code",
      "metadata": {
        "id": "0PQGqRnu9UtO",
        "colab_type": "code",
        "colab": {}
      },
      "source": [
        "# make predictions on the testing data\n",
        "preds = model.predict(test_generator)\n",
        "predicted_labels  = np.argmax(preds,axis=1)\n",
        "\n",
        "#Accessing classnames with predicted clases\n",
        "final_predictions = [class_names[i] for i in predicted_labels]\n"
      ],
      "execution_count": null,
      "outputs": []
    },
    {
      "cell_type": "code",
      "metadata": {
        "id": "DZ0elPjGEFhK",
        "colab_type": "code",
        "colab": {}
      },
      "source": [
        "# loading the csv file to compare the filenames for submitting the final predictions\n",
        "final = pd.read_csv(\"animal_dataset_intermediate/Testing_set_animals.csv\")"
      ],
      "execution_count": null,
      "outputs": []
    },
    {
      "cell_type": "code",
      "metadata": {
        "id": "fucmVnS3FDOo",
        "colab_type": "code",
        "colab": {
          "base_uri": "https://localhost:8080/",
          "height": 204
        },
        "outputId": "ff0f06fd-44c8-46b2-dfdb-06bdc24cf21f"
      },
      "source": [
        "final.head()"
      ],
      "execution_count": null,
      "outputs": [
        {
          "output_type": "execute_result",
          "data": {
            "text/html": [
              "<div>\n",
              "<style scoped>\n",
              "    .dataframe tbody tr th:only-of-type {\n",
              "        vertical-align: middle;\n",
              "    }\n",
              "\n",
              "    .dataframe tbody tr th {\n",
              "        vertical-align: top;\n",
              "    }\n",
              "\n",
              "    .dataframe thead th {\n",
              "        text-align: right;\n",
              "    }\n",
              "</style>\n",
              "<table border=\"1\" class=\"dataframe\">\n",
              "  <thead>\n",
              "    <tr style=\"text-align: right;\">\n",
              "      <th></th>\n",
              "      <th>filename</th>\n",
              "      <th>target</th>\n",
              "    </tr>\n",
              "  </thead>\n",
              "  <tbody>\n",
              "    <tr>\n",
              "      <th>0</th>\n",
              "      <td>e030b20928e90021d85a5854ee454296eb70e3c818b413...</td>\n",
              "      <td>NaN</td>\n",
              "    </tr>\n",
              "    <tr>\n",
              "      <th>1</th>\n",
              "      <td>e030b20929e90021d85a5854ee454296eb70e3c818b413...</td>\n",
              "      <td>NaN</td>\n",
              "    </tr>\n",
              "    <tr>\n",
              "      <th>2</th>\n",
              "      <td>e030b2092be90021d85a5854ee454296eb70e3c818b413...</td>\n",
              "      <td>NaN</td>\n",
              "    </tr>\n",
              "    <tr>\n",
              "      <th>3</th>\n",
              "      <td>e030b2092ce90021d85a5854ee454296eb70e3c818b413...</td>\n",
              "      <td>NaN</td>\n",
              "    </tr>\n",
              "    <tr>\n",
              "      <th>4</th>\n",
              "      <td>e030b2092de90021d85a5854ee454296eb70e3c818b413...</td>\n",
              "      <td>NaN</td>\n",
              "    </tr>\n",
              "  </tbody>\n",
              "</table>\n",
              "</div>"
            ],
            "text/plain": [
              "                                            filename  target\n",
              "0  e030b20928e90021d85a5854ee454296eb70e3c818b413...     NaN\n",
              "1  e030b20929e90021d85a5854ee454296eb70e3c818b413...     NaN\n",
              "2  e030b2092be90021d85a5854ee454296eb70e3c818b413...     NaN\n",
              "3  e030b2092ce90021d85a5854ee454296eb70e3c818b413...     NaN\n",
              "4  e030b2092de90021d85a5854ee454296eb70e3c818b413...     NaN"
            ]
          },
          "metadata": {
            "tags": []
          },
          "execution_count": 48
        }
      ]
    },
    {
      "cell_type": "code",
      "metadata": {
        "id": "0CeWov9eFDLO",
        "colab_type": "code",
        "colab": {}
      },
      "source": [
        "# comapring the filenames and getting the final predictions as per the csv file\n",
        "values = []\n",
        "for fname in final['filename']:\n",
        "  for index in range(len(file_names)):\n",
        "    if fname == file_names[index]:\n",
        "      values.append(final_predictions[index])\n",
        "\n",
        "final['target'] = values\n"
      ],
      "execution_count": null,
      "outputs": []
    },
    {
      "cell_type": "code",
      "metadata": {
        "id": "HhhIpyIeFDH7",
        "colab_type": "code",
        "colab": {
          "base_uri": "https://localhost:8080/",
          "height": 54
        },
        "outputId": "9776586c-d23a-4d10-9d3c-b77d115d424f"
      },
      "source": [
        "# visualizing the predicted catgories on the testing dataset\n",
        "print(values)"
      ],
      "execution_count": null,
      "outputs": [
        {
          "output_type": "stream",
          "text": [
            "['farfalla', 'scoiattolo', 'farfalla', 'farfalla', 'farfalla', 'farfalla', 'elefante', 'pecora', 'scoiattolo', 'pecora', 'scoiattolo', 'elefante', 'elefante', 'elefante', 'pecora', 'farfalla', 'elefante', 'elefante', 'scoiattolo', 'mucca', 'scoiattolo', 'elefante', 'pecora', 'pecora', 'pecora', 'pecora', 'scoiattolo', 'farfalla', 'farfalla', 'farfalla', 'pecora', 'pecora', 'pecora', 'pecora', 'pecora', 'scoiattolo', 'scoiattolo', 'scoiattolo', 'mucca', 'farfalla', 'farfalla', 'pecora', 'farfalla', 'pecora', 'pecora', 'elefante', 'elefante', 'elefante', 'elefante', 'elefante', 'elefante', 'farfalla', 'farfalla', 'farfalla', 'pecora', 'farfalla', 'farfalla', 'elefante', 'farfalla', 'farfalla', 'pecora', 'farfalla', 'farfalla', 'farfalla', 'scoiattolo', 'scoiattolo', 'pecora', 'farfalla', 'farfalla', 'mucca', 'farfalla', 'farfalla', 'pecora', 'farfalla', 'pecora', 'scoiattolo', 'elefante', 'scoiattolo', 'farfalla', 'farfalla', 'farfalla', 'farfalla', 'farfalla', 'elefante', 'farfalla', 'farfalla', 'farfalla', 'elefante', 'elefante', 'elefante', 'farfalla', 'pecora', 'elefante', 'elefante', 'elefante', 'mucca', 'farfalla', 'elefante', 'pecora', 'farfalla', 'elefante', 'pecora', 'elefante', 'elefante', 'elefante', 'elefante', 'elefante', 'elefante', 'elefante', 'elefante', 'mucca', 'pecora', 'elefante', 'farfalla', 'elefante', 'pecora', 'pecora', 'elefante', 'elefante', 'pecora', 'farfalla', 'farfalla', 'elefante', 'elefante', 'elefante', 'elefante', 'elefante', 'pecora', 'elefante', 'farfalla', 'pecora', 'pecora', 'elefante', 'pecora', 'mucca', 'pecora', 'pecora', 'pecora', 'pecora', 'pecora', 'elefante', 'pecora', 'pecora', 'pecora', 'scoiattolo', 'pecora', 'farfalla', 'farfalla', 'scoiattolo', 'scoiattolo', 'mucca', 'farfalla', 'farfalla', 'farfalla', 'scoiattolo', 'pecora', 'scoiattolo', 'elefante', 'scoiattolo', 'elefante', 'elefante', 'farfalla', 'elefante', 'elefante', 'elefante', 'pecora', 'elefante', 'farfalla', 'pecora', 'mucca', 'elefante', 'mucca', 'pecora', 'farfalla', 'mucca', 'farfalla', 'pecora', 'farfalla', 'farfalla', 'mucca', 'farfalla', 'farfalla', 'farfalla', 'pecora', 'scoiattolo', 'elefante', 'elefante', 'pecora', 'elefante', 'farfalla', 'mucca', 'farfalla', 'scoiattolo', 'pecora', 'scoiattolo', 'pecora', 'scoiattolo', 'pecora', 'elefante', 'mucca', 'scoiattolo', 'elefante', 'pecora', 'pecora', 'mucca', 'scoiattolo', 'farfalla', 'farfalla', 'farfalla', 'elefante', 'farfalla', 'farfalla', 'farfalla', 'pecora', 'farfalla', 'farfalla', 'farfalla', 'farfalla', 'farfalla', 'elefante', 'scoiattolo', 'elefante', 'farfalla', 'pecora', 'farfalla', 'farfalla', 'elefante', 'elefante', 'pecora', 'pecora', 'scoiattolo', 'elefante', 'elefante', 'elefante', 'elefante', 'farfalla', 'farfalla', 'pecora', 'elefante', 'farfalla', 'farfalla', 'mucca', 'pecora', 'elefante', 'mucca', 'pecora', 'farfalla', 'farfalla', 'farfalla', 'farfalla', 'farfalla', 'farfalla', 'pecora', 'farfalla', 'elefante', 'scoiattolo', 'farfalla', 'farfalla', 'scoiattolo', 'farfalla', 'pecora', 'elefante', 'pecora', 'scoiattolo', 'pecora', 'pecora', 'farfalla', 'farfalla', 'scoiattolo', 'farfalla', 'farfalla', 'farfalla', 'scoiattolo', 'farfalla', 'farfalla', 'farfalla', 'elefante', 'farfalla', 'farfalla', 'farfalla', 'farfalla', 'farfalla', 'farfalla', 'elefante', 'farfalla', 'pecora', 'pecora', 'farfalla', 'farfalla', 'farfalla', 'farfalla', 'farfalla', 'farfalla', 'farfalla', 'farfalla', 'farfalla', 'farfalla', 'farfalla', 'pecora', 'farfalla', 'elefante', 'farfalla', 'scoiattolo', 'farfalla', 'mucca', 'elefante', 'elefante', 'elefante', 'elefante', 'mucca', 'elefante', 'farfalla', 'pecora', 'farfalla', 'mucca', 'elefante', 'farfalla', 'farfalla', 'farfalla', 'elefante', 'elefante', 'farfalla', 'farfalla', 'farfalla', 'pecora', 'farfalla', 'elefante', 'pecora', 'farfalla', 'pecora', 'elefante', 'scoiattolo', 'pecora', 'elefante', 'pecora', 'pecora', 'pecora', 'pecora', 'farfalla', 'mucca', 'scoiattolo', 'pecora', 'elefante', 'mucca', 'pecora', 'farfalla', 'pecora', 'farfalla', 'farfalla', 'farfalla', 'farfalla', 'elefante', 'elefante', 'elefante', 'elefante', 'mucca', 'elefante', 'scoiattolo', 'pecora', 'elefante', 'elefante', 'elefante', 'pecora', 'pecora', 'farfalla', 'farfalla', 'farfalla', 'farfalla', 'farfalla', 'farfalla', 'farfalla', 'farfalla', 'pecora', 'farfalla', 'farfalla', 'farfalla', 'farfalla', 'farfalla', 'farfalla', 'elefante', 'farfalla', 'pecora', 'mucca', 'pecora', 'mucca', 'scoiattolo', 'farfalla', 'farfalla', 'farfalla', 'farfalla', 'farfalla', 'farfalla', 'elefante', 'scoiattolo', 'farfalla', 'farfalla', 'pecora', 'pecora', 'mucca', 'farfalla', 'farfalla', 'mucca', 'elefante', 'elefante', 'elefante', 'farfalla', 'farfalla', 'mucca', 'elefante', 'farfalla', 'farfalla', 'farfalla', 'farfalla', 'farfalla', 'farfalla', 'farfalla', 'farfalla', 'farfalla', 'farfalla', 'farfalla', 'farfalla', 'pecora', 'farfalla', 'farfalla', 'pecora', 'pecora', 'pecora', 'pecora', 'elefante', 'farfalla', 'farfalla', 'scoiattolo', 'elefante', 'elefante', 'elefante', 'elefante', 'farfalla', 'scoiattolo', 'farfalla', 'farfalla', 'farfalla', 'farfalla', 'pecora', 'farfalla', 'pecora', 'scoiattolo', 'farfalla', 'farfalla', 'farfalla', 'mucca', 'pecora', 'farfalla', 'pecora', 'farfalla', 'farfalla', 'farfalla', 'farfalla', 'farfalla', 'farfalla', 'farfalla', 'farfalla', 'pecora', 'pecora', 'pecora', 'pecora', 'scoiattolo', 'scoiattolo', 'farfalla', 'farfalla', 'farfalla', 'scoiattolo', 'scoiattolo', 'farfalla', 'scoiattolo', 'scoiattolo', 'pecora', 'pecora', 'pecora', 'farfalla', 'scoiattolo', 'mucca', 'farfalla', 'farfalla', 'farfalla', 'farfalla', 'farfalla', 'farfalla', 'pecora', 'farfalla', 'pecora', 'farfalla', 'farfalla', 'farfalla', 'farfalla', 'pecora', 'farfalla', 'pecora', 'elefante', 'elefante', 'pecora', 'farfalla', 'farfalla', 'farfalla', 'farfalla', 'farfalla', 'farfalla', 'farfalla', 'farfalla', 'farfalla', 'farfalla', 'pecora', 'pecora', 'scoiattolo', 'pecora', 'pecora', 'pecora', 'pecora', 'pecora', 'scoiattolo', 'pecora', 'pecora', 'scoiattolo', 'elefante', 'farfalla', 'pecora', 'pecora', 'pecora', 'pecora', 'pecora', 'scoiattolo', 'pecora', 'scoiattolo', 'scoiattolo', 'pecora', 'pecora', 'pecora', 'pecora', 'pecora', 'elefante', 'elefante', 'scoiattolo', 'mucca', 'mucca', 'mucca', 'mucca', 'scoiattolo', 'mucca', 'pecora', 'mucca', 'scoiattolo', 'scoiattolo', 'elefante', 'scoiattolo', 'scoiattolo', 'scoiattolo', 'scoiattolo', 'mucca', 'scoiattolo', 'farfalla', 'mucca', 'scoiattolo', 'mucca', 'mucca', 'scoiattolo', 'scoiattolo', 'scoiattolo', 'mucca', 'farfalla', 'mucca', 'scoiattolo', 'scoiattolo', 'scoiattolo', 'scoiattolo', 'scoiattolo', 'scoiattolo', 'scoiattolo', 'mucca', 'elefante', 'scoiattolo', 'scoiattolo', 'mucca', 'pecora', 'scoiattolo', 'scoiattolo', 'scoiattolo', 'pecora', 'pecora', 'mucca', 'elefante', 'pecora', 'scoiattolo', 'mucca', 'pecora', 'scoiattolo', 'scoiattolo', 'mucca', 'mucca', 'pecora', 'scoiattolo', 'mucca', 'scoiattolo', 'mucca', 'elefante', 'mucca', 'elefante', 'mucca', 'scoiattolo', 'scoiattolo', 'pecora', 'scoiattolo', 'mucca', 'scoiattolo', 'farfalla', 'mucca', 'scoiattolo', 'pecora', 'scoiattolo', 'scoiattolo', 'scoiattolo', 'scoiattolo', 'elefante', 'pecora', 'scoiattolo', 'pecora', 'scoiattolo', 'mucca', 'farfalla', 'pecora', 'scoiattolo', 'scoiattolo', 'scoiattolo', 'scoiattolo', 'mucca', 'scoiattolo', 'mucca', 'scoiattolo', 'mucca', 'mucca', 'scoiattolo', 'mucca', 'scoiattolo', 'scoiattolo', 'scoiattolo', 'scoiattolo', 'scoiattolo', 'mucca', 'mucca', 'scoiattolo', 'mucca', 'scoiattolo', 'mucca', 'scoiattolo', 'mucca', 'pecora', 'scoiattolo', 'pecora', 'mucca', 'mucca', 'scoiattolo', 'mucca', 'mucca', 'elefante', 'mucca', 'mucca', 'mucca', 'scoiattolo', 'mucca', 'scoiattolo', 'mucca', 'scoiattolo', 'scoiattolo', 'scoiattolo', 'scoiattolo', 'farfalla', 'mucca', 'mucca', 'farfalla', 'scoiattolo', 'scoiattolo', 'mucca', 'scoiattolo', 'scoiattolo', 'elefante', 'mucca', 'scoiattolo', 'scoiattolo', 'mucca', 'mucca', 'mucca', 'mucca', 'mucca', 'mucca', 'mucca', 'mucca', 'scoiattolo', 'pecora', 'mucca', 'mucca', 'scoiattolo', 'mucca', 'scoiattolo', 'mucca', 'farfalla', 'pecora', 'scoiattolo', 'scoiattolo', 'pecora', 'mucca', 'scoiattolo', 'mucca', 'scoiattolo', 'mucca', 'scoiattolo', 'farfalla', 'scoiattolo', 'mucca', 'scoiattolo', 'pecora', 'scoiattolo', 'scoiattolo', 'mucca', 'scoiattolo', 'scoiattolo', 'mucca', 'mucca', 'mucca', 'mucca', 'elefante', 'scoiattolo', 'mucca', 'scoiattolo', 'scoiattolo', 'scoiattolo', 'mucca', 'pecora', 'mucca', 'mucca', 'mucca', 'scoiattolo', 'scoiattolo', 'pecora', 'scoiattolo', 'scoiattolo', 'mucca', 'pecora', 'scoiattolo', 'scoiattolo', 'mucca', 'mucca', 'mucca', 'mucca', 'scoiattolo', 'pecora', 'scoiattolo', 'scoiattolo', 'scoiattolo', 'mucca', 'pecora', 'scoiattolo', 'scoiattolo', 'mucca', 'mucca', 'scoiattolo', 'pecora', 'pecora', 'scoiattolo', 'scoiattolo', 'pecora', 'scoiattolo', 'scoiattolo', 'pecora', 'elefante', 'scoiattolo', 'pecora', 'pecora', 'mucca', 'mucca', 'mucca', 'scoiattolo', 'scoiattolo', 'scoiattolo', 'scoiattolo', 'mucca', 'scoiattolo', 'pecora', 'mucca', 'mucca', 'pecora', 'mucca', 'scoiattolo', 'scoiattolo', 'scoiattolo', 'mucca', 'mucca', 'elefante', 'mucca', 'farfalla', 'scoiattolo', 'scoiattolo', 'scoiattolo', 'pecora', 'pecora', 'mucca', 'scoiattolo', 'mucca', 'scoiattolo', 'scoiattolo', 'elefante', 'mucca', 'mucca', 'mucca', 'mucca', 'scoiattolo', 'scoiattolo', 'mucca', 'elefante', 'scoiattolo', 'mucca', 'scoiattolo', 'mucca', 'scoiattolo', 'mucca', 'scoiattolo', 'mucca', 'pecora', 'mucca', 'mucca', 'mucca', 'mucca', 'scoiattolo', 'scoiattolo', 'mucca', 'mucca', 'scoiattolo', 'scoiattolo', 'mucca', 'mucca', 'pecora', 'scoiattolo', 'scoiattolo', 'mucca', 'scoiattolo', 'pecora', 'scoiattolo', 'mucca', 'scoiattolo', 'mucca', 'scoiattolo', 'mucca', 'mucca', 'mucca', 'mucca', 'mucca', 'farfalla', 'elefante', 'scoiattolo', 'scoiattolo', 'mucca', 'scoiattolo', 'farfalla', 'pecora', 'elefante', 'scoiattolo', 'mucca', 'mucca', 'mucca', 'mucca', 'mucca', 'scoiattolo', 'scoiattolo', 'mucca', 'scoiattolo', 'mucca', 'scoiattolo', 'farfalla', 'elefante', 'scoiattolo', 'mucca', 'scoiattolo', 'scoiattolo', 'mucca', 'mucca', 'mucca', 'scoiattolo', 'mucca', 'farfalla', 'scoiattolo', 'mucca', 'mucca', 'mucca', 'scoiattolo', 'mucca', 'mucca', 'scoiattolo', 'pecora', 'mucca', 'mucca', 'mucca', 'mucca', 'mucca', 'mucca', 'scoiattolo', 'mucca', 'scoiattolo', 'scoiattolo', 'scoiattolo', 'pecora', 'scoiattolo', 'scoiattolo', 'scoiattolo']\n"
          ],
          "name": "stdout"
        }
      ]
    },
    {
      "cell_type": "code",
      "metadata": {
        "id": "iIBzHWdeFDEc",
        "colab_type": "code",
        "colab": {}
      },
      "source": [
        ""
      ],
      "execution_count": null,
      "outputs": []
    },
    {
      "cell_type": "code",
      "metadata": {
        "id": "1GQ5aPpaFDAs",
        "colab_type": "code",
        "colab": {}
      },
      "source": [
        ""
      ],
      "execution_count": null,
      "outputs": []
    }
  ]
}